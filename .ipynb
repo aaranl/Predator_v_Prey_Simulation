{
 "cells": [
  {
   "cell_type": "code",
   "execution_count": 9,
   "id": "894eefea",
   "metadata": {},
   "outputs": [],
   "source": [
    "import mesa\n",
    "import seaborn as sns\n",
    "import numpy as np\n",
    "import pandas as pd"
   ]
  },
  {
   "cell_type": "code",
   "execution_count": 10,
   "id": "2e6d53de",
   "metadata": {},
   "outputs": [],
   "source": [
    "class Predator(mesa.Agent):\n",
    "    \"\"\" A predator agent \"\"\"\n",
    "    \n",
    "    def __init__(self, unique_id, model):\n",
    "        super().__init__(unique_id, model)\n",
    "        # TODO: Add predator properties here\n",
    "        self.is_predator = True\n",
    "        self.life = 10\n",
    "\n",
    "    def step(self):\n",
    "        # TODO: Define predator behavior here\n",
    "        if self.life > 0: \n",
    "            other_agent = self.random.choice(self.model.schedule.agents)\n",
    "            if other_agent is not None and other_agent.is_prey:\n",
    "                self.life += 1\n",
    "                other_agent.life -= 1\n",
    "        \n",
    "        \n",
    "        "
   ]
  },
  {
   "cell_type": "code",
   "execution_count": 11,
   "id": "87f89fcf",
   "metadata": {},
   "outputs": [],
   "source": [
    "class Prey(mesa.Agent):\n",
    "    \"\"\" A prey agent \"\"\"\n",
    "    \n",
    "    def __init__(self, unique_id, model):\n",
    "        super().__init__(unique_id, model)\n",
    "        # TODO: Add prey properties here\n",
    "        self.is_prey = True\n",
    "        self.life = 10\n",
    "        \n",
    "\n",
    "    def step(self):\n",
    "        # TODO: Define prey behavior here\n",
    "        if self.life > 0:\n",
    "            other_agent = self.random.choice(self.model.schedule.agents)\n",
    "            if other_agent is not None and other_agent.is_prey:\n",
    "                self.life += 1\n",
    "                other_agent.life += 1\n",
    "            else:\n",
    "                self.life -= 1\n",
    "                other_agent.life += 1\n",
    "                \n",
    "\n"
   ]
  },
  {
   "cell_type": "code",
   "execution_count": 12,
   "id": "bd38c78d",
   "metadata": {},
   "outputs": [],
   "source": [
    "class EcosystemModel(mesa.Model):\n",
    "    \"\"\"A model with some number of agents.\"\"\"\n",
    "\n",
    "    def __init__(self, num_predators, num_prey):\n",
    "        self.num_predators = num_predators\n",
    "        self.num_prey = num_prey\n",
    "        # Create scheduler and assign it to the model\n",
    "        self.schedule = mesa.time.RandomActivation(self)\n",
    "\n",
    "        # Create agents\n",
    "        for i in range(self.num_predators):\n",
    "            predator = Predator(i, self)\n",
    "            self.schedule.add(predator)\n",
    "        \n",
    "        for i in range(self.num_prey):\n",
    "            prey = Prey(i + self.num_predators, self)\n",
    "            self.schedule.add(prey)\n",
    "\n",
    "    def step(self):\n",
    "        \"\"\"Advance the model by one step.\"\"\"\n",
    "        self.schedule.step()\n"
   ]
  },
  {
   "cell_type": "code",
   "execution_count": 13,
   "id": "ebd797a6",
   "metadata": {},
   "outputs": [
    {
     "name": "stderr",
     "output_type": "stream",
     "text": [
      "C:\\Users\\Aaran\\AppData\\Local\\Temp\\ipykernel_14040\\3878660843.py:5: FutureWarning: The Mesa Model class was not initialized. In the future, you need to explicitly initialize the Model by calling super().__init__() on initialization.\n",
      "  super().__init__(unique_id, model)\n"
     ]
    },
    {
     "ename": "AttributeError",
     "evalue": "'EcosystemModel' object has no attribute '_steps'",
     "output_type": "error",
     "traceback": [
      "\u001b[1;31m---------------------------------------------------------------------------\u001b[0m",
      "\u001b[1;31mAttributeError\u001b[0m                            Traceback (most recent call last)",
      "Cell \u001b[1;32mIn[13], line 3\u001b[0m\n\u001b[0;32m      1\u001b[0m model \u001b[38;5;241m=\u001b[39m EcosystemModel(\u001b[38;5;241m1\u001b[39m, \u001b[38;5;241m1\u001b[39m)\n\u001b[0;32m      2\u001b[0m \u001b[38;5;28;01mfor\u001b[39;00m i \u001b[38;5;129;01min\u001b[39;00m \u001b[38;5;28mrange\u001b[39m(\u001b[38;5;241m10\u001b[39m):\n\u001b[1;32m----> 3\u001b[0m     model\u001b[38;5;241m.\u001b[39mstep()\n",
      "Cell \u001b[1;32mIn[12], line 21\u001b[0m, in \u001b[0;36mEcosystemModel.step\u001b[1;34m(self)\u001b[0m\n\u001b[0;32m     19\u001b[0m \u001b[38;5;28;01mdef\u001b[39;00m \u001b[38;5;21mstep\u001b[39m(\u001b[38;5;28mself\u001b[39m):\n\u001b[0;32m     20\u001b[0m \u001b[38;5;250m    \u001b[39m\u001b[38;5;124;03m\"\"\"Advance the model by one step.\"\"\"\u001b[39;00m\n\u001b[1;32m---> 21\u001b[0m     \u001b[38;5;28mself\u001b[39m\u001b[38;5;241m.\u001b[39mschedule\u001b[38;5;241m.\u001b[39mstep()\n",
      "File \u001b[1;32m~\\anaconda3\\Lib\\site-packages\\mesa\\time.py:123\u001b[0m, in \u001b[0;36mBaseScheduler._wrapped_step\u001b[1;34m(self)\u001b[0m\n\u001b[0;32m    121\u001b[0m \u001b[38;5;250m\u001b[39m\u001b[38;5;124;03m\"\"\"Wrapper for the step method to include time and step updating.\"\"\"\u001b[39;00m\n\u001b[0;32m    122\u001b[0m \u001b[38;5;28mself\u001b[39m\u001b[38;5;241m.\u001b[39m_original_step()\n\u001b[1;32m--> 123\u001b[0m \u001b[38;5;28mself\u001b[39m\u001b[38;5;241m.\u001b[39mmodel\u001b[38;5;241m.\u001b[39m_advance_time()\n",
      "File \u001b[1;32m~\\anaconda3\\Lib\\site-packages\\mesa\\model.py:122\u001b[0m, in \u001b[0;36mModel._advance_time\u001b[1;34m(self, deltat)\u001b[0m\n\u001b[0;32m    120\u001b[0m \u001b[38;5;28;01mdef\u001b[39;00m \u001b[38;5;21m_advance_time\u001b[39m(\u001b[38;5;28mself\u001b[39m, deltat: TimeT \u001b[38;5;241m=\u001b[39m \u001b[38;5;241m1\u001b[39m):\n\u001b[0;32m    121\u001b[0m \u001b[38;5;250m    \u001b[39m\u001b[38;5;124;03m\"\"\"Increment the model's steps counter and clock.\"\"\"\u001b[39;00m\n\u001b[1;32m--> 122\u001b[0m     \u001b[38;5;28mself\u001b[39m\u001b[38;5;241m.\u001b[39m_steps \u001b[38;5;241m+\u001b[39m\u001b[38;5;241m=\u001b[39m \u001b[38;5;241m1\u001b[39m\n\u001b[0;32m    123\u001b[0m     \u001b[38;5;28mself\u001b[39m\u001b[38;5;241m.\u001b[39m_time \u001b[38;5;241m+\u001b[39m\u001b[38;5;241m=\u001b[39m deltat\n",
      "\u001b[1;31mAttributeError\u001b[0m: 'EcosystemModel' object has no attribute '_steps'"
     ]
    }
   ],
   "source": [
    "model = EcosystemModel(1, 1)\n",
    "for i in range(10):\n",
    "    model.step()\n"
   ]
  },
  {
   "cell_type": "code",
   "execution_count": null,
   "id": "8cefb860",
   "metadata": {},
   "outputs": [],
   "source": []
  }
 ],
 "metadata": {
  "kernelspec": {
   "display_name": "Python 3 (ipykernel)",
   "language": "python",
   "name": "python3"
  },
  "language_info": {
   "codemirror_mode": {
    "name": "ipython",
    "version": 3
   },
   "file_extension": ".py",
   "mimetype": "text/x-python",
   "name": "python",
   "nbconvert_exporter": "python",
   "pygments_lexer": "ipython3",
   "version": "3.11.5"
  }
 },
 "nbformat": 4,
 "nbformat_minor": 5
}
